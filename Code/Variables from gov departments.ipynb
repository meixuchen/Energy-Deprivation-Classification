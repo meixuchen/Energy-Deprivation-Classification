{
 "cells": [
  {
   "cell_type": "code",
   "execution_count": 54,
   "id": "b418ae22-d13f-449c-856d-a3048fcb60c5",
   "metadata": {},
   "outputs": [],
   "source": [
    "import pandas as pd\n",
    "import numpy as np \n",
    "import os\n",
    "import glob\n",
    "import warnings\n",
    "\n",
    "warnings.filterwarnings('ignore')"
   ]
  },
  {
   "cell_type": "markdown",
   "id": "9f8ac418",
   "metadata": {},
   "source": [
    "* Create several lookup tables for a unified spatial scale at either 2021 LSOAs or 2011 DZs"
   ]
  },
  {
   "cell_type": "code",
   "execution_count": null,
   "id": "4f254b53",
   "metadata": {},
   "outputs": [],
   "source": [
    "# Read a lookup table from ONSPD UK 2023.11 \n",
    "lookup = pd.read_csv('ONSPD_NOV_2023_UK.csv')\n",
    "lookup = lookup[['pcd','oa21','lsoa21','msoa21', 'oslaua','rgn','oa11','lsoa11','msoa11']].fillna('NA')\n",
    "# England and Wales \n",
    "lookup_EW = lookup[lookup['lsoa21'].str.contains('E|W')]\n",
    "# Scotland only\n",
    "lookup_S = lookup[lookup['lsoa11'].str.startswith('S0')]\n",
    "# merge for GB\n",
    "lookup_gb = pd.concat([lookup_EW,lookup_S])"
   ]
  },
  {
   "cell_type": "code",
   "execution_count": 58,
   "id": "eea4768e-d852-4b6b-8ee8-c5211bbf8bfc",
   "metadata": {
    "tags": []
   },
   "outputs": [],
   "source": [
    "# LSOA11 to LSOA21\n",
    "lsoa11_21 = lookup_gb[['lsoa21','lsoa11']].drop_duplicates().set_index('lsoa11')\n",
    "#create a weight variable: divisions based on the count of LSOA11 at each LSOA11 group\n",
    "lsoa11_21 = lsoa11_21.join(1/lsoa11_21.groupby('lsoa11').count().rename(columns = {'lsoa21':'weight'})).sort_values('weight')\n",
    "\n",
    "#lookup from LSOA name to LSOA11 code England and Wales\n",
    "lsoaCD_NM = pd.read_csv(os.getcwd() + '/LSOA_(2011)_to_LSOA_(2021)_to_Local_Authority_District_(2022)_Lookup_for_England_and_Wales.csv',index_col = 1).iloc[:,[0]].drop_duplicates()\n",
    "#lookup from DZ name to DZ code for Scotland\n",
    "dzCD_NM = pd.read_excel(os.getcwd() + '/OA_DZ_IZ_2011_lookup.xlsx', sheet_name = 'DataZone2011Lookup', index_col = 1)\n",
    "dzCD_NM.columns = ['F_LSOA11CD']\n",
    "GB_NM_CD = pd.concat([lsoaCD_NM,dzCD_NM])"
   ]
  },
  {
   "cell_type": "markdown",
   "id": "c2498777-aeca-490a-b8d5-2cfb6005cfb3",
   "metadata": {},
   "source": [
    "* Households with electricity pre-payment meters"
   ]
  },
  {
   "cell_type": "code",
   "execution_count": 62,
   "id": "6432434e-5215-4f3f-a2a3-0530d010f91c",
   "metadata": {},
   "outputs": [],
   "source": [
    "#2017 electricity prepayment meters\n",
    "pre_elec_meter = pd.read_csv('LSOA-prepayment-electricity-2017.csv',header = 1,index_col = 5).iloc[0:41729,[6]]\n",
    "#2017 electricity meters\n",
    "elec_meter_2017 = pd.read_excel('LSOA_domestic_elec_2010-21.xlsx', sheet_name = '2017',header = 4, index_col = 4).iloc[0:41729,[5]]\n",
    "#join two electricity\n",
    "elec_pre_meter = elec_meter_2017.join(pre_elec_meter)\n",
    "\n",
    "# calculate proportion of prepay electric meter\n",
    "elec_pre_meter['prepay electric meter'] =  elec_pre_meter['Total meters']/elec_pre_meter['Number\\nof meters\\n']\n",
    "#join lookup table to link with lsoa21\n",
    "elec_pre_meter = elec_pre_meter.join(lsoa11_21, how = 'right')\n",
    "# consider weight\n",
    "elec_pre_meter['prepay electric meter'] = elec_pre_meter['prepay electric meter'] * elec_pre_meter['weight'] * 100\n",
    "elec_pre_meter = elec_pre_meter.groupby('lsoa21').mean().fillna(0)\n",
    "elec_pre_meter = elec_pre_meter[['prepay electric meter']]"
   ]
  },
  {
   "cell_type": "markdown",
   "id": "d6e9b3eb",
   "metadata": {},
   "source": [
    "* Property not connected to gas grid "
   ]
  },
  {
   "cell_type": "code",
   "execution_count": 63,
   "id": "82196dbe-b98c-42c1-bef9-3c05e291eadc",
   "metadata": {},
   "outputs": [],
   "source": [
    "# 2021 not connect to gas grid\n",
    "no_mains_gas = pd.read_excel('LSOA_estimates_of_properties_not_connected_to_the_gas_network_2015-2022.xlsx', sheet_name = '2022',header = 3, index_col = 4)\n",
    "no_mains_gas['not connect to gas grid'] = no_mains_gas['Estimated percentage\\nof properties not \\non the gas grid'] * 100\n",
    "no_mains_gas = no_mains_gas[['not connect to gas grid']]"
   ]
  },
  {
   "cell_type": "markdown",
   "id": "1e4ea83a-a522-4708-b097-aad73d249722",
   "metadata": {},
   "source": [
    "* Households with universal credit"
   ]
  },
  {
   "cell_type": "code",
   "execution_count": 64,
   "id": "0853ac43-3d8a-4a43-bce7-309b0dea54c1",
   "metadata": {
    "tags": []
   },
   "outputs": [],
   "source": [
    "# population estimation\n",
    "population_2021_EW = pd.read_csv('All population_LSOA21_EW.csv', header = 5, index_col = 1).iloc[0:35672][['2021']]\n",
    "population_2021_EW.columns = ['Total population']\n",
    "population_2021_S = pd.read_csv('2021Mid-year DZ population_age band.csv',index_col = 0)[['Total population']]\n",
    "population_2021_S['Total population']= population_2021_S['Total population'].str.replace(',','')\n",
    "population_2021_S = population_2021_S.astype('int')\n",
    "# population estimation for GB\n",
    "population_2021 = pd.concat([population_2021_EW,population_2021_S])\n",
    "# universal credit 2021 gb\n",
    "universal_credit_GB =  pd.read_csv('universal credit people 2021 GB.csv',header = 6, index_col = 0)"
   ]
  },
  {
   "cell_type": "code",
   "execution_count": 66,
   "id": "7b635052-13ab-4c87-a414-427b39411639",
   "metadata": {},
   "outputs": [],
   "source": [
    "# Drop columns with all null values\n",
    "universal_credit_GB = universal_credit_GB.dropna(axis=1, how='all')\n",
    "# Drop rows with all null values\n",
    "universal_credit_GB = universal_credit_GB.dropna(axis=0, how='all')\n",
    "# Convert Column1 to numeric (errors='coerce' will replace non-numeric values with NaN)\n",
    "universal_credit_GB['April 2021'] = pd.to_numeric(universal_credit_GB['April 2021'], errors='coerce')\n",
    "# Drop rows with NaN values in Column1 (which were originally non-numeric or string values)\n",
    "universal_credit_GB = universal_credit_GB.dropna(subset=['April 2021'])\n",
    "# Drop the last rows with summary values\n",
    "universal_credit_GB = universal_credit_GB.drop('Total', axis= 0)\n",
    "# Measure average value\n",
    "universal_credit_GB['2021 universal credit-avg'] = universal_credit_GB.mean(axis= 1)\n",
    "universal_credit_GB = universal_credit_GB.rename(index = {'Shepway 015A': 'Shepway 014E', 'Shepway 015B':'Shepway 014F','Shepway 015C':'Shepway 014G','Shepway 015D':'Shepway 014H'})\n",
    "universal_credit_GB = universal_credit_GB[['2021 universal credit-avg']].dropna()"
   ]
  },
  {
   "cell_type": "code",
   "execution_count": 68,
   "id": "425d1e9a-e433-4802-93f4-7ff376ef031f",
   "metadata": {},
   "outputs": [],
   "source": [
    "# join with name-code lookup table, join with lsoa11-21 lookup table, join with population data\n",
    "uc_GB = universal_credit_GB.join(GB_NM_CD).set_index('F_LSOA11CD').join(lsoa11_21)\n",
    "uc_GB['2021 universal credit-avg'] = uc_GB['2021 universal credit-avg'] * uc_GB['weight'] \n",
    "uc_GB = uc_GB.groupby('lsoa21').mean().join(population_2021)\n",
    "uc_GB['2021 uc-mean'] = uc_GB['2021 universal credit-avg']/uc_GB['Total population']*100\n",
    "uc_GB = uc_GB[['2021 uc-mean']]"
   ]
  },
  {
   "cell_type": "markdown",
   "id": "85b703b1-7db3-471f-bbcc-7b6fd4aa48fe",
   "metadata": {},
   "source": [
    "* Properties average domestic electricity consumption KWh per meter\n",
    "* Properties average domestic gas consumption KWh per meter"
   ]
  },
  {
   "cell_type": "code",
   "execution_count": 69,
   "id": "f06b8812-d114-466d-9a0f-a9cdcbe7afbc",
   "metadata": {},
   "outputs": [],
   "source": [
    "gas_consumption = pd.read_excel('LSOA_domestic_gas_2010-2022.xlsx', sheet_name = '2022', header = 4, index_col = 4).iloc[:,[8]]\n",
    "elc_consumption = pd.read_excel('LSOA_domestic_elec_2010-22.xlsx', sheet_name = '2022', header = 4, index_col = 4).iloc[:,[8]]"
   ]
  },
  {
   "cell_type": "code",
   "execution_count": 70,
   "id": "c7ec7d4c-7bca-44f2-97ad-4135dd91e2f5",
   "metadata": {},
   "outputs": [],
   "source": [
    "gas_consumption.columns = ['gas_consumption']\n",
    "elc_consumption.columns = ['elc_consumption']"
   ]
  },
  {
   "cell_type": "markdown",
   "id": "9c833df3",
   "metadata": {},
   "source": [
    "* Gross Disposable Household Income (GDHI) "
   ]
  },
  {
   "cell_type": "code",
   "execution_count": 71,
   "id": "97c45987-866e-4b9a-a627-9030bf23db38",
   "metadata": {},
   "outputs": [],
   "source": [
    "income_path = glob.glob('Income/*.xlsx')\n",
    "income_df = [pd.read_excel(f, sheet_name= 'Table 3', header= 1, index_col=0, usecols= [0, 25]) for f in income_path]\n",
    "# Income data merged for GB\n",
    "income_gb = pd.concat(income_df)\n",
    "# Unify spatial scale to 2021 LSOAs and reweight income data\n",
    "income_gb = income_gb.join(lsoa11_21)\n",
    "income_gb[2021] = income_gb[2021]  * income_gb['weight'] \n",
    "income_gb = income_gb.groupby('lsoa21').mean()\n",
    "income_gb = income_gb.drop('weight', axis= 1)"
   ]
  },
  {
   "cell_type": "code",
   "execution_count": 79,
   "id": "dee5f2e5-48ec-48c9-9eb3-3805c2749c00",
   "metadata": {},
   "outputs": [],
   "source": [
    "pd.concat([gas_consumption,elc_consumption,elec_pre_meter, no_mains_gas, uc_GB, income_gb], axis = 1)\\\n",
    ".to_csv('Vars_gov.csv')"
   ]
  }
 ],
 "metadata": {
  "kernelspec": {
   "display_name": "Python 3 (ipykernel)",
   "language": "python",
   "name": "python3"
  },
  "language_info": {
   "codemirror_mode": {
    "name": "ipython",
    "version": 3
   },
   "file_extension": ".py",
   "mimetype": "text/x-python",
   "name": "python",
   "nbconvert_exporter": "python",
   "pygments_lexer": "ipython3",
   "version": "3.9.16"
  }
 },
 "nbformat": 4,
 "nbformat_minor": 5
}
