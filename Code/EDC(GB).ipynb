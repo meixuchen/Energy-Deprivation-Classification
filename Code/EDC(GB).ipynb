{
 "cells": [
  {
   "cell_type": "code",
   "execution_count": null,
   "id": "b424bfcf-b122-454d-a4bf-16b7baae76d7",
   "metadata": {},
   "outputs": [],
   "source": [
    "import warnings\n",
    "warnings.filterwarnings(\"ignore\")\n",
    "\n",
    "import pandas as pd\n",
    "import geopandas as gpd\n",
    "import seaborn as sns\n",
    "import numpy as np\n",
    "import glob\n",
    "import sklearn.preprocessing as sp\n",
    "from sklearn.cluster import KMeans,AgglomerativeClustering\n",
    "from clustergram import Clustergram\n",
    "import os\n",
    "import matplotlib.pyplot as plt\n",
    "from matplotlib.colors import ListedColormap,BoundaryNorm\n",
    "from matplotlib.colorbar import ColorbarBase\n",
    "import matplotlib as mpl\n",
    "import matplotlib.patches as mpatches\n",
    "from matplotlib_scalebar.scalebar import ScaleBar\n",
    "from matplotlib.offsetbox import OffsetImage, AnnotationBbox\n",
    "from matplotlib import font_manager as fm\n",
    "\n",
    "\n",
    "pd.set_option('display.max_columns', None)\n",
    "#set font globally\n",
    "plt.rcParams['font.family'] = 'Arial'"
   ]
  },
  {
   "cell_type": "code",
   "execution_count": null,
   "id": "cff0dae4-035c-4f53-8e0d-951ea01d3d62",
   "metadata": {
    "tags": []
   },
   "outputs": [],
   "source": [
    "all_measure = pd.read_csv(os.getcwd()+'\\\\all_measure(40).csv',index_col = 0)"
   ]
  },
  {
   "cell_type": "code",
   "execution_count": null,
   "id": "9154c4af-26f5-4550-b345-ac2b165dce62",
   "metadata": {
    "tags": []
   },
   "outputs": [],
   "source": [
    "#drop variable with too many missing values \n",
    "all_measure1 = all_measure.drop(['Renewable only'], axis = 1)\n",
    "#normalised transformation and standardisation\n",
    "all_measure_boxcox_std = pd.DataFrame(sp.PowerTransformer(method = 'yeo-johnson',standardize = True).fit_transform(all_measure1), \\\n",
    "                                      columns = all_measure1.columns, index = all_measure1.index)"
   ]
  },
  {
   "cell_type": "markdown",
   "id": "2035bace",
   "metadata": {},
   "source": [
    "* Feature selection"
   ]
  },
  {
   "cell_type": "code",
   "execution_count": null,
   "id": "c1dc75f2-1572-416a-8882-be07b7889b4e",
   "metadata": {
    "tags": []
   },
   "outputs": [],
   "source": [
    "# correlation matrix\n",
    "corr = all_measure_boxcox_std.corr()\n",
    "#corr.columns = list(range(1,all_measure_boxcox_std.shape[1]+1))\n",
    "# Create a mask\n",
    "mask = np.triu(np.ones_like(corr, dtype= bool))\n",
    "mask = pd.DataFrame(mask.T,columns = corr.columns, index = corr.index)\n",
    "corr = corr.mask(~mask)"
   ]
  },
  {
   "cell_type": "code",
   "execution_count": null,
   "id": "9c580419-30dc-45bc-8827-7a094a6af811",
   "metadata": {},
   "outputs": [],
   "source": [
    "#drop variable with strong correlation\n",
    "drop_var = ['Retired','Universal credit','Owns outright','Co2 emissions','Under occupancy','Prepay electricity']\n",
    "dropped_data = all_measure_boxcox_std.drop(drop_var, axis = 1).fillna(0)"
   ]
  },
  {
   "cell_type": "markdown",
   "id": "9594bd1f",
   "metadata": {},
   "source": [
    "* Clustergram to determine optimal k\n"
   ]
  },
  {
   "cell_type": "code",
   "execution_count": null,
   "id": "f7369d2a-d3d5-4faf-824e-97eef90cd9c5",
   "metadata": {},
   "outputs": [],
   "source": [
    "def clustergram_plot(n,df,name):\n",
    "    cgram = Clustergram(range(1, n), n_init=100,random_state = 0, algorithm = 'elkan')\n",
    "    cgram.fit(df)\n",
    "\n",
    "    ax = cgram.plot(\n",
    "        figsize=(8, 6),\n",
    "        size = 0.7,\n",
    "        linewidth=0.6,\n",
    "        line_style=dict(color='black'),\n",
    "        cluster_style={\"color\": '#e41a1c'},\n",
    "        pca_weighted=True\n",
    "    )\n",
    "    ax.yaxis.grid(False)\n",
    "    return plt.show()"
   ]
  },
  {
   "cell_type": "code",
   "execution_count": null,
   "id": "a88382e9-36b5-40ab-a054-848152d1b6a5",
   "metadata": {},
   "outputs": [],
   "source": [
    "clustergram_plot(11,dropped_data,'super_40variables')"
   ]
  },
  {
   "cell_type": "markdown",
   "id": "fd73d346-3943-448c-83f5-e2120b0ed6a3",
   "metadata": {},
   "source": [
    "* Kmeans clustering"
   ]
  },
  {
   "cell_type": "code",
   "execution_count": null,
   "id": "2e76df54-f834-479c-8f31-46c6d511f9c4",
   "metadata": {},
   "outputs": [],
   "source": [
    "def kmeans(k,drop_data,raw_data):\n",
    "    cluster = KMeans(n_clusters=k, random_state = 0, n_init = 100, max_iter = 10000).fit_predict(drop_data)\n",
    "    #Assign the each cluster number to the merged data\n",
    "    df = raw_data.assign(lbls = cluster)\n",
    "    return df"
   ]
  },
  {
   "cell_type": "code",
   "execution_count": null,
   "id": "844bbc59-5f45-4e16-bc0d-3bfabc1166fb",
   "metadata": {},
   "outputs": [],
   "source": [
    "data = kmeans(6,dropped_data,all_measure)"
   ]
  },
  {
   "cell_type": "code",
   "execution_count": null,
   "id": "d176eab2-ac30-42cc-b778-4e8239159a9b",
   "metadata": {},
   "outputs": [],
   "source": [
    "# read boundary data\n",
    "geo_ew = gpd.read_file(os.getcwd()+'/boundaries/LSOA_(Dec_2021)_Boundaries_Generalised_Clipped_EW_(BGC).geojson').set_index('LSOA21CD')[['geometry']]#epsg 4326\n",
    "geo_s = gpd.read_file(os.getcwd() + '/boundaries/SG_DataZone_Bdry_2011.shp').set_index('DataZone')[['geometry']]\n",
    "geo_gb = pd.concat([geo_ew.to_crs(geo_s.crs),geo_s])\n"
   ]
  },
  {
   "cell_type": "code",
   "execution_count": null,
   "id": "c3be00ec-1a8c-457c-9a55-a400c1be6a36",
   "metadata": {
    "tags": []
   },
   "outputs": [],
   "source": [
    "#join dataframe with geometry\n",
    "all_measure_geo = geo_gb.join(data)#4326\n",
    "# index scores for Supergroups\n",
    "all_measure_geo.iloc[:,1:-1] = ((all_measure_geo.iloc[:,1:-1]/all_measure_geo.iloc[:,1:-1].mean())*100).round()\n",
    "index_score_super = all_measure_geo.groupby('lbls').mean().round().T\n"
   ]
  },
  {
   "cell_type": "markdown",
   "id": "f620d1ca-b596-43d3-8c15-3281f4e64a59",
   "metadata": {},
   "source": [
    "* Further division for finer Group level"
   ]
  },
  {
   "cell_type": "code",
   "execution_count": null,
   "id": "cbb497a4-43b4-4fc0-8f66-6525a5503a0c",
   "metadata": {},
   "outputs": [],
   "source": [
    "def standardise(df):\n",
    "    output = pd.DataFrame(sp.PowerTransformer(method = 'yeo-johnson',standardize = True).fit_transform(df), columns = df.columns, index = df.index)\n",
    "    return output"
   ]
  },
  {
   "cell_type": "code",
   "execution_count": null,
   "id": "fdbf1b81-512d-4172-a89c-eb4e620193ba",
   "metadata": {},
   "outputs": [],
   "source": [
    "# divide classification by Supergroups\n",
    "lbls = [list(all_measure_geo.groupby('lbls'))[i][1] for i in range(6)]# or ['A','B','C','D','E']\n",
    "variable_dropped = ['Renewable only','Retired','Co2 emissions','Prepay electricity','Under occupancy','Universal credit','Owns outright','geometry','lbls']"
   ]
  },
  {
   "cell_type": "code",
   "execution_count": null,
   "id": "a4105cd3-09fe-49e4-ba75-5f9ad8eeae0a",
   "metadata": {
    "tags": []
   },
   "outputs": [],
   "source": [
    "group_A = lbls[0].drop(variable_dropped, axis = 1).fillna(0)\n",
    "group_A = standardise(group_A)\n",
    "clustergram_plot(5,group_A,'superA')"
   ]
  },
  {
   "cell_type": "code",
   "execution_count": null,
   "id": "2927b5b2-a50d-4277-887a-c77ecefd36ce",
   "metadata": {},
   "outputs": [],
   "source": [
    "lbls_A = kmeans(3, group_A, lbls[0])"
   ]
  },
  {
   "cell_type": "code",
   "execution_count": null,
   "id": "57697da7-93d7-4570-b02d-e71efc5b4f19",
   "metadata": {
    "tags": []
   },
   "outputs": [],
   "source": [
    "group_B = lbls[1].drop(variable_dropped, axis = 1).fillna(0)\n",
    "group_B = standardise(group_B)\n",
    "clustergram_plot(5,group_B,'superB')"
   ]
  },
  {
   "cell_type": "code",
   "execution_count": null,
   "id": "e4252bd7-c05b-4c69-8cac-8a5e1852bea6",
   "metadata": {
    "tags": []
   },
   "outputs": [],
   "source": [
    "lbls_B = kmeans(2, group_B, lbls[1])"
   ]
  },
  {
   "cell_type": "code",
   "execution_count": null,
   "id": "77c94a13-28c8-4c29-a93e-23163a0aab70",
   "metadata": {
    "tags": []
   },
   "outputs": [],
   "source": [
    "group_C = lbls[2].drop(variable_dropped, axis = 1).fillna(0)\n",
    "group_C = standardise(group_C)\n",
    "clustergram_plot(5,group_C,'superC')"
   ]
  },
  {
   "cell_type": "code",
   "execution_count": null,
   "id": "710ba8e8-c40f-4525-952d-e0ce9a010c13",
   "metadata": {
    "tags": []
   },
   "outputs": [],
   "source": [
    "lbls_C = kmeans(2, group_C, lbls[2])"
   ]
  },
  {
   "cell_type": "code",
   "execution_count": null,
   "id": "34a8c4e9-f157-45ce-ae31-12f9cfd7c2b3",
   "metadata": {
    "tags": []
   },
   "outputs": [],
   "source": [
    "group_D = lbls[3].drop(variable_dropped, axis = 1).fillna(0)\n",
    "group_D = standardise(group_D)\n",
    "clustergram_plot(5,group_D,'superD')"
   ]
  },
  {
   "cell_type": "code",
   "execution_count": null,
   "id": "32be997d-0f5c-4be7-8aea-76fb64c1372d",
   "metadata": {
    "tags": []
   },
   "outputs": [],
   "source": [
    "lbls_D = kmeans(2, group_D, lbls[3])"
   ]
  },
  {
   "cell_type": "code",
   "execution_count": null,
   "id": "a9bd7933-897c-4b02-a007-4df924b581e3",
   "metadata": {
    "tags": []
   },
   "outputs": [],
   "source": [
    "group_E = lbls[4].drop(variable_dropped, axis = 1).fillna(0)\n",
    "group_E = standardise(group_E)\n",
    "clustergram_plot(5,group_E,'superE')"
   ]
  },
  {
   "cell_type": "code",
   "execution_count": null,
   "id": "0082e8e4-b3b2-4e21-abf1-85db60b91e46",
   "metadata": {},
   "outputs": [],
   "source": [
    "lbls_E = kmeans(3, group_E, lbls[4])"
   ]
  },
  {
   "cell_type": "code",
   "execution_count": null,
   "id": "c20f1069-8375-4e45-b5a7-768a9008f0b8",
   "metadata": {
    "tags": []
   },
   "outputs": [],
   "source": [
    "group_F = lbls[5].drop(variable_dropped, axis = 1).fillna(0)\n",
    "group_F = standardise(group_F)\n",
    "clustergram_plot(5,group_F,'superF')"
   ]
  },
  {
   "cell_type": "code",
   "execution_count": null,
   "id": "5a933a83-9243-4182-8a04-e882988414e7",
   "metadata": {},
   "outputs": [],
   "source": [
    "lbls_F = kmeans(2, group_F, lbls[5])"
   ]
  },
  {
   "cell_type": "code",
   "execution_count": null,
   "id": "21ba945b-a8a4-41c8-84e3-1ed3551cbf60",
   "metadata": {},
   "outputs": [],
   "source": [
    "lbls_ = [lbls_A,lbls_B,lbls_C,lbls_D,lbls_E,lbls_F]\n",
    "#rename sub-category\n",
    "sub_name = [['A1','A2','A3'],['B1','B2'],['C1','C2'],['D1','D2'], ['E1','E2','E3'],['F1','F2']]\n",
    "# rename labels with 'A-1','A-2','B-1'...\n",
    "for a in range(6):\n",
    "    lbls_[a].loc[lbls_[a]['lbls'] == 0, 'lbls'] = sub_name[a][0]\n",
    "    lbls_[a].loc[lbls_[a]['lbls'] == 1, 'lbls'] = sub_name[a][1]\n",
    "lbls_[0].loc[lbls_[0]['lbls'] == 2, 'lbls'] = sub_name[0][2]\n",
    "lbls_[4].loc[lbls_[4]['lbls'] == 2, 'lbls'] = sub_name[4][2]"
   ]
  },
  {
   "cell_type": "code",
   "execution_count": null,
   "id": "fb64d963-e911-4350-a970-bcd170dae49a",
   "metadata": {},
   "outputs": [],
   "source": [
    "#14 Groups\n",
    "super_sub = pd.concat(lbls_)"
   ]
  },
  {
   "cell_type": "code",
   "execution_count": null,
   "id": "e86b3026-b794-494f-a122-e11d923455cf",
   "metadata": {},
   "outputs": [],
   "source": [
    "def index_score(f):\n",
    "    all_ = f.drop('geometry', axis  = 1)\n",
    "    all_.iloc[:,:-1] = (all_.iloc[:,:-1]/all_.iloc[:,:-1].mean())*100\n",
    "    #all_.rename(columns = {'Disabled or long sick':'Disabled/Sick'},inplace = True)\n",
    "    index_score = all_.groupby('lbls').mean().round()\n",
    "    return index_score"
   ]
  },
  {
   "cell_type": "code",
   "execution_count": null,
   "id": "88553a95-58b8-477d-98d2-1ec46fd381a2",
   "metadata": {},
   "outputs": [],
   "source": [
    "# calculate index score\n",
    "score_national = index_score(super_sub)\n",
    "#write to csv\n",
    "score_national.to_csv('index_score(Groups).csv')"
   ]
  },
  {
   "cell_type": "code",
   "execution_count": null,
   "id": "a541526a",
   "metadata": {},
   "outputs": [],
   "source": [
    "super_sub['supergroups'] = super_sub['lbls'].str[0]\n",
    "super_sub.rename(columns={'lbls':'groups'},inplace=True)\n",
    "super_sub.head()"
   ]
  },
  {
   "cell_type": "code",
   "execution_count": null,
   "id": "a8681f7a",
   "metadata": {},
   "outputs": [],
   "source": [
    "# write the whole data to one geopackage\n",
    "super_sub.to_file('EDC_tier1&2_gb.shp', crs = super_sub.crs)"
   ]
  }
 ],
 "metadata": {
  "kernelspec": {
   "display_name": "Python 3 (ipykernel)",
   "language": "python",
   "name": "python3"
  },
  "language_info": {
   "codemirror_mode": {
    "name": "ipython",
    "version": 3
   },
   "file_extension": ".py",
   "mimetype": "text/x-python",
   "name": "python",
   "nbconvert_exporter": "python",
   "pygments_lexer": "ipython3",
   "version": "3.9.16"
  }
 },
 "nbformat": 4,
 "nbformat_minor": 5
}
