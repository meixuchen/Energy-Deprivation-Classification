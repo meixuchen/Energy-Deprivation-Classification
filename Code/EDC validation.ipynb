{
 "cells": [
  {
   "cell_type": "code",
   "execution_count": null,
   "id": "1e3e0639-ca88-4cce-a83b-f8fbeefa4da8",
   "metadata": {},
   "outputs": [],
   "source": [
    "import pandas as pd\n",
    "import seaborn as sns\n",
    "import matplotlib.pyplot as plt\n",
    "import numpy as np\n",
    "import geopandas as gpd\n",
    "import os\n",
    "from matplotlib.colors import ListedColormap\n",
    "from matplotlib_scalebar.scalebar import ScaleBar\n",
    "from matplotlib.offsetbox import OffsetImage, AnnotationBbox\n",
    "\n",
    "#set font globally\n",
    "plt.rcParams['font.family'] = 'Arial'\n",
    "\n",
    "import warnings\n",
    "warnings.filterwarnings('ignore')"
   ]
  },
  {
   "cell_type": "markdown",
   "id": "7e0a5058-97b0-4888-9fea-f2d3d6420985",
   "metadata": {},
   "source": [
    "* LILEE validation"
   ]
  },
  {
   "cell_type": "code",
   "execution_count": null,
   "id": "495610c8-b43c-4602-80f8-9daed355e98e",
   "metadata": {},
   "outputs": [],
   "source": [
    "# use fuel poverty survey data at 2021 LSOAs to validate energy deprivation classification results\n",
    "fuel_poverty = pd.read_excel('validation/sub-regional-fuel-poverty-tables-2023-2021-data.xlsx', sheet_name = 'Table 3',header = 2).iloc[:33755]\n",
    "fuel_poverty = fuel_poverty[['LSOA Code','Proportion of households fuel poor (%)','LA Name','Region']].set_index('LSOA Code')\n",
    "# Classification data\n",
    "energy_geo = gpd.read_file('EDC_tier1&2_gb.shp')"
   ]
  },
  {
   "cell_type": "code",
   "execution_count": null,
   "id": "95dcf5ea-89ef-432b-b0e5-c6d55012a7e1",
   "metadata": {},
   "outputs": [],
   "source": [
    "joined = energy_geo.set_index('index')[['supergroup','geometry']].join(fuel_poverty, how= 'inner')\n",
    "joined.columns = ['Energy Deprivation Classification','geometry','Fuel Poor Households(%)','LA Name','Region']\n",
    "joined = joined.sort_values('Energy Deprivation Classification', ascending = True)"
   ]
  },
  {
   "cell_type": "markdown",
   "id": "095f6753-bc1f-449c-8cf1-f229301f42f9",
   "metadata": {},
   "source": [
    "* IMD validation"
   ]
  },
  {
   "cell_type": "code",
   "execution_count": null,
   "id": "0777ae18-0398-4753-9f58-977abba64ea4",
   "metadata": {
    "tags": []
   },
   "outputs": [],
   "source": [
    "eimd = pd.read_csv('validation/EIMD 2019.csv',index_col = 0).iloc[:,[4]]\n",
    "wimd = pd.read_csv('validation/WIMD(SOA lookup).csv',index_col = 0)\n",
    "simd = pd.read_csv('validation/simd2020_withinds.csv',index_col = 0).iloc[:,[5]]\n",
    "eimd.columns = wimd.columns = simd.columns = ['IMD Rank (where 1 is most deprived)']\n",
    "eimd['decile'] = pd.qcut(eimd.iloc[:,0], q=10, labels=False, duplicates='drop')+1\n",
    "wimd['decile'] = pd.qcut(wimd.iloc[:,0], q=10, labels=False, duplicates='drop')+1\n",
    "simd['decile'] = pd.qcut(simd.iloc[:,0], q=10, labels=False, duplicates='drop')+1\n",
    "eimd['percentile'] = pd.qcut(eimd.iloc[:,0], q=100, labels=False, duplicates='drop')+1\n",
    "wimd['percentile'] = pd.qcut(wimd.iloc[:,0], q=100, labels=False, duplicates='drop')+1\n",
    "simd['percentile'] = pd.qcut(simd.iloc[:,0], q=100, labels=False, duplicates='drop')+1\n",
    "# harmonised IMD for GB\n",
    "gb_imd = pd.concat([eimd,wimd,simd])"
   ]
  },
  {
   "cell_type": "code",
   "execution_count": null,
   "id": "b0b1079c-6055-4acb-b7fa-009c5ee65ed2",
   "metadata": {},
   "outputs": [],
   "source": [
    "# Read a lookup table from ONSPD UK 2023.11 \n",
    "lookup = pd.read_csv('ONSPD_NOV_2023_UK.csv')\n",
    "lookup = lookup[['pcd','oa21','lsoa21','msoa21', 'oslaua','rgn','oa11','lsoa11','msoa11']].fillna('NA')\n",
    "# England and Wales \n",
    "lookup_EW = lookup[lookup['lsoa21'].str.contains('E|W')]\n",
    "# Scotland only\n",
    "lookup_S = lookup[lookup['lsoa11'].str.startswith('S0')]\n",
    "# merge for GB\n",
    "lookup_gb = pd.concat([lookup_EW,lookup_S])"
   ]
  },
  {
   "cell_type": "code",
   "execution_count": null,
   "id": "6021f1aa-2328-4b39-9d12-88fe5c80be95",
   "metadata": {},
   "outputs": [],
   "source": [
    "lsoa11_21 = lookup_gb[['lsoa21','lsoa11']].drop_duplicates().set_index('lsoa11')\n",
    "gb_imd = gb_imd.join(lsoa11_21).groupby('lsoa21').mean()\n",
    "\n",
    "gb_imd['Country'] = ''\n",
    "gb_imd['Country'] = np.where(gb_imd.index.str.contains('E'), 'England', gb_imd['Country'])\n",
    "gb_imd['Country'] = np.where(gb_imd.index.str.contains('W'), 'Wales', gb_imd['Country'])\n",
    "gb_imd['Country'] = np.where(gb_imd.index.str.contains('S'), 'Scotland', gb_imd['Country'])"
   ]
  },
  {
   "cell_type": "code",
   "execution_count": null,
   "id": "e3cf8225-d773-4752-a96e-5a5bf89c2728",
   "metadata": {},
   "outputs": [],
   "source": [
    "energy_imd = energy_geo.set_index('index').join(gb_imd)\n",
    "\n",
    "energy_imd = energy_imd.sort_values('supergroup', ascending = True)\n",
    "energy_imd_country = [energy_imd[energy_imd['Country'] == value] for value in energy_imd['Country'].unique()]"
   ]
  },
  {
   "cell_type": "markdown",
   "id": "660f7a97-8f0e-4456-8739-3ded20a8874e",
   "metadata": {},
   "source": [
    "* Internal validation"
   ]
  },
  {
   "cell_type": "code",
   "execution_count": null,
   "id": "d1e0c1b6",
   "metadata": {},
   "outputs": [],
   "source": [
    "energy_geo = energy_geo.set_index('index')"
   ]
  },
  {
   "cell_type": "code",
   "execution_count": null,
   "id": "d0529e20",
   "metadata": {},
   "outputs": [],
   "source": [
    "#drop unused columns of kmeans clustering\n",
    "X = energy_geo.drop(['Renewable','Retired','Co2 emissi','Prepay ele','Under occu','Universal','Owns outri'], axis = 1).fillna(100)\n",
    "supergroup6 = [list(X.iloc[:,:-1].groupby('supergroup'))[i][1] for i in range(len(energy_geo.supergroup.unique()))]"
   ]
  },
  {
   "cell_type": "code",
   "execution_count": null,
   "id": "13740aab-554d-4297-a1b9-40a592d80c86",
   "metadata": {},
   "outputs": [],
   "source": [
    "def distance_to_mean(df):\n",
    "    # Calculate the mean vector of the DataFrame\n",
    "    mean_vector = df.mean(axis=0, numeric_only=True)\n",
    "\n",
    "    # Calculate the Euclidean distance between each row and the mean vector\n",
    "    # We subtract the mean vector from each row and square each element\n",
    "    squared_differences = (df - mean_vector) ** 2\n",
    "\n",
    "    # Sum the squared differences along the columns (axis=1)\n",
    "    squared_distances = squared_differences.sum(axis=1)\n",
    "\n",
    "    # Take the square root of the sum to get the Euclidean distance\n",
    "    euclidean_distances = np.sqrt(squared_distances)\n",
    "\n",
    "    # Now, euclidean_distances will contain the Euclidean distance of each row to the mean of each variable\n",
    "    # This is to validate the closeness and robustness of cluster results\n",
    "    df['EDC Fit'] = euclidean_distances.round()\n",
    "    return df"
   ]
  },
  {
   "cell_type": "code",
   "execution_count": null,
   "id": "730e84bc-0597-4906-8179-fc4776242c3d",
   "metadata": {
    "tags": []
   },
   "outputs": [],
   "source": [
    "supergroup6 = [distance_to_mean(supergroup6[i]).sort_values('EDC Fit', ascending = True) for i in range(len(energy_geo.supergroup.unique()))]"
   ]
  },
  {
   "cell_type": "code",
   "execution_count": null,
   "id": "1295cd60-4ddb-4882-b09e-3bc9a9a27f83",
   "metadata": {},
   "outputs": [],
   "source": [
    "cluster_fit = pd.concat([supergroup6[i].iloc[:,[-3,-2,-1]] for i in range(len(energy_geo.supergroup.unique()))])\n",
    "cluster_fit_geo = energy_geo[['geometry']].join(cluster_fit)"
   ]
  },
  {
   "cell_type": "code",
   "execution_count": null,
   "id": "b71b95b2",
   "metadata": {},
   "outputs": [],
   "source": [
    "# Average fit for each country\n",
    "fit_E_avg = cluster_fit_geo[cluster_fit_geo.index.str.contains('E')].mean()[0].astype('int')\n",
    "fit_W_avg= cluster_fit_geo[cluster_fit_geo.index.str.contains('W')].mean()[0].astype('int')\n",
    "fit_S_avg = cluster_fit_geo[cluster_fit_geo.index.str.contains('S')].mean()[0].astype('int')\n",
    "fit_E_md = cluster_fit_geo[cluster_fit_geo.index.str.contains('E')].median()[0].astype('int')\n",
    "fit_W_md = cluster_fit_geo[cluster_fit_geo.index.str.contains('W')].median()[0].astype('int')\n",
    "fit_S_md = cluster_fit_geo[cluster_fit_geo.index.str.contains('S')].median()[0].astype('int')\n",
    "\n",
    "fit_E_W_S = pd.DataFrame({'Mean': [fit_E_avg,fit_W_avg,fit_S_avg],'Median':[fit_E_md,fit_W_md,fit_S_md]}, index = ['England','Wales','Scotland'])"
   ]
  }
 ],
 "metadata": {
  "kernelspec": {
   "display_name": "Python 3 (ipykernel)",
   "language": "python",
   "name": "python3"
  },
  "language_info": {
   "codemirror_mode": {
    "name": "ipython",
    "version": 3
   },
   "file_extension": ".py",
   "mimetype": "text/x-python",
   "name": "python",
   "nbconvert_exporter": "python",
   "pygments_lexer": "ipython3",
   "version": "3.9.16"
  }
 },
 "nbformat": 4,
 "nbformat_minor": 5
}
