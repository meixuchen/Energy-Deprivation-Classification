{
 "cells": [
  {
   "cell_type": "code",
   "execution_count": null,
   "id": "4ef180a5-c034-4fd4-a845-1ce8dce7e93e",
   "metadata": {},
   "outputs": [],
   "source": [
    "import pandas as pd\n",
    "import glob\n",
    "import seaborn as sns\n",
    "import numpy as np\n",
    "import os\n",
    "\n",
    "import warnings\n",
    "warnings.filterwarnings('ignore')"
   ]
  },
  {
   "cell_type": "code",
   "execution_count": null,
   "id": "925d4fe3-3128-4735-a347-0e543b546005",
   "metadata": {},
   "outputs": [],
   "source": [
    "#census files\n",
    "path = glob.glob('Energy project_Scotland 2011 Census/*.csv')\n",
    "files = [pd.read_csv(f,index_col = 0).iloc[0:6977] for f in path]#, header = 5, "
   ]
  },
  {
   "cell_type": "code",
   "execution_count": null,
   "id": "3b0c40a3-ea4f-4e9b-906a-6a0610f1b88d",
   "metadata": {
    "tags": []
   },
   "outputs": [],
   "source": [
    "files[0]['Total population'] = files[0]['Total population'].str.replace(',','')\n",
    "files[0]['Total population'] = files[0]['Total population'].astype('int')\n",
    "files[0]['Aged 4 years and under'] = files[0]['Age0-4']/files[0]['Total population']\n",
    "files[0]['Aged 75 and above'] = files[0]['Age75+']/files[0]['Total population']\n",
    "files[0] = files[0][['Aged 4 years and under','Aged 75 and above']]"
   ]
  },
  {
   "cell_type": "code",
   "execution_count": null,
   "id": "6422f49b-4f73-4464-b0f7-fcba0c858e16",
   "metadata": {
    "tags": []
   },
   "outputs": [],
   "source": [
    "files[1] = files[1][['Lone parent: Total']].join(files[2][['All people']])\n",
    "files[1]['lone parent with dependent childern'] = files[1]['Lone parent: Total']/files[1]['All people']\n",
    "files[1] = files[1][['lone parent with dependent childern']]"
   ]
  },
  {
   "cell_type": "code",
   "execution_count": null,
   "id": "88e4def1-5155-4d0b-98a1-911ea91deb8f",
   "metadata": {
    "tags": []
   },
   "outputs": [],
   "source": [
    "files[2]['Ethnic_minority'] = (files[2]['All people']-files[2]['White'])/files[2]['All people']\n",
    "files[2] = files[2][['Ethnic_minority']]"
   ]
  },
  {
   "cell_type": "code",
   "execution_count": null,
   "id": "c334914e-0002-49d8-b3e3-2dc7da3fa66c",
   "metadata": {
    "tags": []
   },
   "outputs": [],
   "source": [
    "files[3]['unpaid care 20h+'] = (files[3]['Provision of unpaid care: 20 to 49 hours a week'] + files[3]['Provision of unpaid care: 50 or more hours a week'])/files[3]['All people']\n",
    "files[3] = files[3][['unpaid care 20h+']]"
   ]
  },
  {
   "cell_type": "code",
   "execution_count": null,
   "id": "4a493aff-41f6-43c2-b55d-ca4c50dd7856",
   "metadata": {
    "tags": []
   },
   "outputs": [],
   "source": [
    "files[4] = files[4].iloc[:,[0,8,9,10,11,12]]\n",
    "files[4].iloc[:,1:] = files[4].iloc[:,1:].replace('-',0)\n",
    "files[4].iloc[:,1:] = files[4].iloc[:,1:].astype('int').div(files[4].iloc[:,0], axis = 0)\n",
    "files[4] = files[4].iloc[:,1:]\n",
    "files[4].columns = ['Detached','Semi-detached','Terraced','Flat','Shared house']"
   ]
  },
  {
   "cell_type": "code",
   "execution_count": null,
   "id": "5dc3e547-98ed-46ae-b310-b083967832a8",
   "metadata": {
    "tags": []
   },
   "outputs": [],
   "source": [
    "# Tenure\n",
    "files[5]['Owns with a mortgage or loan & shared ownership'] = files[5]['Owned: Owned with a mortgage or loan'] + files[5]['Owned: Shared ownership (part owned and part rented)']\n",
    "files[5]['Social rented'] = files[5]['Rented: Council (Local authority)'] + files[5]['Rented: Other social rented']\n",
    "files[5] = files[5].iloc[:,[0,1,-2,-1,6]]\n",
    "files[5].iloc[:,1:] = files[5].iloc[:,1:].div(files[5].iloc[:,0], axis = 0)\n",
    "files[5] = files[5].iloc[:,1:]\n",
    "files[5].columns = ['Owned: Owns outright','Owns with a mortgage or loan or shared ownership','Social rented','Private rented']"
   ]
  },
  {
   "cell_type": "code",
   "execution_count": null,
   "id": "a6c535c9-c346-4909-b9e5-cc6ad87eb940",
   "metadata": {
    "tags": []
   },
   "outputs": [],
   "source": [
    "files[6]['Entry-level education and below'] = files[6].iloc[:,[1,2]].sum(axis= 1)/files[6]['All people aged 16 and over']\n",
    "files[6] = files[6][['Entry-level education and below']]"
   ]
  },
  {
   "cell_type": "code",
   "execution_count": null,
   "id": "cf560801-2942-4abf-8133-18339e95ec79",
   "metadata": {
    "tags": []
   },
   "outputs": [],
   "source": [
    "files[7]['Unemployed'] = files[7].iloc[:,[-1,-2,-3,-4,4]].sum(axis = 1)\n",
    "files[7] = files[7].iloc[:,[0,1,6,7,8,9,-1]]\n",
    "files[7].iloc[:,1:] = files[7].iloc[:,1:].div(files[7].iloc[:,0], axis= 0)\n",
    "files[7]  = files[7].iloc[:,1:] "
   ]
  },
  {
   "cell_type": "code",
   "execution_count": null,
   "id": "1576dd3b-604b-41a9-ac26-0310f5bf4bb5",
   "metadata": {
    "tags": []
   },
   "outputs": [],
   "source": [
    "files[8].iloc[:,-1] = files[8].iloc[:,-1] /files[8].iloc[:,0]\n",
    "files[8] = files[8].iloc[:,[-1]]\n",
    "files[8].columns = ['Elementary occupations']"
   ]
  },
  {
   "cell_type": "code",
   "execution_count": null,
   "id": "edd45ee2-2b73-4767-be2a-9cb7a7b47523",
   "metadata": {
    "tags": []
   },
   "outputs": [],
   "source": [
    "files[9]['English not as main language'] = (files[9]['No skills in English']+files[9]['Understands but does not speak read or write English'])/files[9]['All people aged 3 and over']\n",
    "files[9] = files[9][['English not as main language']]"
   ]
  },
  {
   "cell_type": "code",
   "execution_count": null,
   "id": "0cf03430-e6ca-4e63-98c8-9d74b6ad77be",
   "metadata": {
    "tags": []
   },
   "outputs": [],
   "source": [
    "files[10]['large household size >5 people'] = files[10].iloc[:,6:].sum(axis = 1)\n",
    "files[10]['large household size >5 people'] = files[10]['large household size >5 people'] / files[10]['All occupied household spaces']\n",
    "files[10] = files[10][['large household size >5 people']]"
   ]
  },
  {
   "cell_type": "code",
   "execution_count": null,
   "id": "f91514f2-90bb-486f-ac2f-678af40bba00",
   "metadata": {
    "tags": []
   },
   "outputs": [],
   "source": [
    "files[11]['under occupancy'] = files[11].iloc[:,1:3].sum(axis=1)/files[11]['All households']\n",
    "files[11] = files[11][['under occupancy']]"
   ]
  },
  {
   "cell_type": "code",
   "execution_count": null,
   "id": "6bfc3783-df47-42c9-8cda-df349cd3e0a4",
   "metadata": {
    "tags": []
   },
   "outputs": [],
   "source": [
    "files[12]['No central heating'] = files[12]['No central heating']/files[12]['All occupied household spaces']\n",
    "files[12]['Electric only'] = files[12]['Electric (including storage heaters) central heating']/files[12]['All occupied household spaces']\n",
    "files[12] = files[12][['No central heating','Electric only']]"
   ]
  },
  {
   "cell_type": "code",
   "execution_count": null,
   "id": "34378a07-cbf0-4cea-8482-7d979f5122be",
   "metadata": {},
   "outputs": [],
   "source": [
    "census_total = (pd.concat(files, axis = 1).iloc[:6976] * 100).round(1)\n",
    "census_total"
   ]
  },
  {
   "cell_type": "code",
   "execution_count": null,
   "id": "2fcf6911-8447-4ae8-a2e6-836877c9fc03",
   "metadata": {},
   "outputs": [],
   "source": [
    "\n",
    "census_total.to_csv('Vars_census_S.csv')"
   ]
  }
 ],
 "metadata": {
  "kernelspec": {
   "display_name": "Python 3 (ipykernel)",
   "language": "python",
   "name": "python3"
  },
  "language_info": {
   "codemirror_mode": {
    "name": "ipython",
    "version": 3
   },
   "file_extension": ".py",
   "mimetype": "text/x-python",
   "name": "python",
   "nbconvert_exporter": "python",
   "pygments_lexer": "ipython3",
   "version": "3.9.16"
  }
 },
 "nbformat": 4,
 "nbformat_minor": 5
}
