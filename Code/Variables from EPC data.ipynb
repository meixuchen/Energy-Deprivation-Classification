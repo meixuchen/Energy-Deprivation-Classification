{
 "cells": [
  {
   "cell_type": "code",
   "execution_count": null,
   "metadata": {},
   "outputs": [],
   "source": [
    "import pandas as pd\n",
    "import dask.dataframe as dd\n",
    "#from dask.distributed import Client\n",
    "import numpy as np \n",
    "import os\n",
    "import glob\n",
    "#import psycopg2\n",
    "import warnings\n",
    "\n",
    "warnings.filterwarnings('ignore')"
   ]
  },
  {
   "cell_type": "markdown",
   "metadata": {},
   "source": [
    "* Create several lookup tables for a unified spatial scale at either 2021 LSOAs or 2011 DZs"
   ]
  },
  {
   "cell_type": "code",
   "execution_count": null,
   "metadata": {},
   "outputs": [],
   "source": [
    "# Read a lookup table from ONSPD UK 2023.11 \n",
    "lookup = pd.read_csv('Raw data/ONSPD_NOV_2023_UK.csv')\n",
    "lookup = lookup[['pcd','oa21','lsoa21','msoa21', 'oslaua','rgn','oa11','lsoa11','msoa11']].fillna('NA')\n",
    "# England and Wales \n",
    "lookup_EW = lookup[lookup['lsoa21'].str.contains('E|W')]\n",
    "# Scotland only\n",
    "lookup_S = lookup[lookup['lsoa11'].str.startswith('S0')]\n"
   ]
  },
  {
   "cell_type": "code",
   "execution_count": null,
   "metadata": {},
   "outputs": [],
   "source": [
    "# Convert all varying spatial scales from household and 2011 LSOAs to 2021 LSOAs/2011 DZs\n",
    "\n",
    "# postcode to LSOA21\n",
    "pcd_lsoa21 = lookup_EW[['pcd','lsoa21']]\n",
    "pcd_dz11 = lookup_S[['pcd','lsoa11']]\n",
    "pcd_lsoa21.columns = ['POSTCODE','lsoa21']\n",
    "pcd_dz11.columns = ['POSTCODE','lsoa21']\n",
    "pcd_lsoa21_gb = pd.concat([pcd_lsoa21,pcd_dz11])\n",
    "pcd_lsoa21_gb['POSTCODE'] = pcd_lsoa21_gb['POSTCODE'].str.replace(' ','')\n",
    "\n",
    "# LSOA11 to LSOA21\n",
    "lsoa11_21 = lookup_EW[['lsoa21','lsoa11']].drop_duplicates().set_index('lsoa11')\n",
    "#create a weight variable: divisions based on the count of LSOA11 at each LSOA11 group\n",
    "lsoa11_21 = lsoa11_21.join(1/lsoa11_21.groupby('lsoa11').count().rename(columns = {'lsoa21':'weight'})).sort_values('weight')"
   ]
  },
  {
   "cell_type": "markdown",
   "metadata": {},
   "source": [
    "* Energy Efficiency data for England and Wales as well as Scotland"
   ]
  },
  {
   "cell_type": "code",
   "execution_count": null,
   "metadata": {},
   "outputs": [],
   "source": [
    "#EPC for England and Wales\n",
    "dir1 = 'Raw data\\\\EPC_EW\\\\all-domestic-certificates(2008Q4-2023Q3)\\\\'\n",
    "csvfiles = []\n",
    "for root,dirs,files in os.walk(dir1):\n",
    "    for file in files:\n",
    "        if file.endswith('certificates.csv'):\n",
    "            df = dd.read_csv(root + '\\\\'+'certificates.csv',sample = 10000,\n",
    "        dtype={'ENERGY_CONSUMPTION_POTENTIAL': 'float64',\n",
    "       'HEATING_COST_CURRENT': 'float64',\n",
    "       'HEATING_COST_POTENTIAL': 'float64',\n",
    "       'HOT_WATER_COST_CURRENT': 'float64',\n",
    "       'HOT_WATER_COST_POTENTIAL': 'float64',\n",
    "       'LIGHTING_COST_CURRENT': 'float64',\n",
    "       'LIGHTING_COST_POTENTIAL': 'float64',\n",
    "        'WIND_TURBINE_COUNT': 'float64',\n",
    "       'MAIN_HEATING_CONTROLS': 'object',\n",
    "               'CONSTITUENCY': 'object',\n",
    "       'CONSTITUENCY_LABEL': 'object',\n",
    "               'ADDRESS2':'object',\n",
    "              'ADDRESS3': 'object',\n",
    "               'COUNTY': 'object',\n",
    "               'UPRN':'object',\n",
    "               'FLOOR_ENV_EFF':'object','FLOOR_ENERGY_EFF':'object',\n",
    "              'FLAT_TOP_STOREY': 'object','HEAT_LOSS_CORRIDOR': 'object'},assume_missing = True)\n",
    "            #select useful attributes for this study\n",
    "            df = df.iloc[:,[4,6,8,16,18,22,23,31,33,-19,-7,-2]]\n",
    "            #dask dataframe to pandas dataframe\n",
    "            csvfiles.append(df.compute())"
   ]
  },
  {
   "cell_type": "code",
   "execution_count": null,
   "metadata": {},
   "outputs": [],
   "source": [
    "epc = pd.concat(csvfiles)\n",
    "#EPC with uprn\n",
    "epc_uprn = epc[~epc['UPRN'].isnull()]\n",
    "epc_uprn['LODGEMENT_DATE'] = epc_uprn['LODGEMENT_DATE'].str.replace('-','')\n",
    "epc_uprn['YEAR-MONTH'] = epc_uprn['LODGEMENT_DATE'].str[0:6].astype('int')\n",
    "# analysis only includes the latest EPC lodgements for a 10 year period, from Q4 2013 to Q3 2023.\n",
    "epc_uprn = epc_uprn[(epc_uprn['YEAR-MONTH']>201309) & (epc_uprn['YEAR-MONTH']<202310)]\n",
    "# Only count the latest valid EPC variable for each dwelling/property to avoid duplicate counts, so only one valid epc for each dwelling\n",
    "valid_epc = epc_uprn.sort_values(['UPRN','YEAR-MONTH']).drop_duplicates(['UPRN','POSTCODE'],keep = 'last')\n",
    "valid_epc = valid_epc[['UPRN','POSTCODE','CURRENT_ENERGY_EFFICIENCY','CO2_EMISSIONS_CURRENT','TOTAL_FLOOR_AREA',\\\n",
    "                'CO2_EMISS_CURR_PER_FLOOR_AREA','CONSTRUCTION_AGE_BAND','MAIN_FUEL']]\n",
    "valid_epc"
   ]
  },
  {
   "cell_type": "code",
   "execution_count": null,
   "metadata": {},
   "outputs": [],
   "source": [
    "# EPC for Scotland\n",
    "path = glob.glob('Raw data/EPC_S/D_EPC_data_2012Q4-2023Q3/*.csv')\n",
    "files = [pd.read_csv(f, header = 1) for f in path]\n",
    "epc_S = pd.concat(files)\n",
    "epc_S = epc_S[['OSG_UPRN', 'Postcode','Current energy efficiency rating','Current Emissions (T.CO2/yr)','Total floor area (m²)',\\\n",
    "      'CO2 Emissions Current Per Floor Area (kg.CO2/m²/yr)','Part 1 Construction Age Band','Main Heating 1 Fuel Type','Date of Certificate']]\n",
    "epc_S.columns = ['UPRN','POSTCODE','CURRENT_ENERGY_EFFICIENCY','CO2_EMISSIONS_CURRENT','TOTAL_FLOOR_AREA',\\\n",
    "                'CO2_EMISS_CURR_PER_FLOOR_AREA','CONSTRUCTION_AGE_BAND','MAIN_FUEL','Date of Certificate']\n",
    "#drop records without a single UPRN\n",
    "epc_uprn_S = epc_S[~epc_S['UPRN'].isnull()]\n",
    "# Only count the latest valid EPC variable for each dwelling/property to avoid duplicate counts, so only one valid epc for each dwelling\n",
    "valid_epc_S = epc_uprn_S.sort_values(['UPRN','Date of Certificate']).drop_duplicates(['UPRN','POSTCODE'],keep = 'last')"
   ]
  },
  {
   "cell_type": "code",
   "execution_count": null,
   "metadata": {},
   "outputs": [],
   "source": [
    "# merge EPC data togother for GB \n",
    "valid_epc_gb = pd.concat([valid_epc, valid_epc_S.drop('Date of Certificate', axis = 1)])"
   ]
  },
  {
   "cell_type": "markdown",
   "metadata": {},
   "source": [
    "* Using EPC to measure variables within Energy Efficiency domain"
   ]
  },
  {
   "cell_type": "code",
   "execution_count": null,
   "metadata": {
    "tags": []
   },
   "outputs": [],
   "source": [
    "# energy efficiency Band D and below\n",
    "valid_epc_gb['Efficiency band E-G'] = np.where(valid_epc_gb['CURRENT_ENERGY_EFFICIENCY'] < 55, 'Y','N')\n",
    "\n",
    "# energy efficiency Band C and above\n",
    "valid_epc_gb['Efficiency band A-B'] = np.where(valid_epc_gb['CURRENT_ENERGY_EFFICIENCY'] > 80, 'Y','N')\n",
    "\n",
    "# main fuel type is fossil fuel reliances\n",
    "valid_epc_gb['MAIN_FUEL'] = valid_epc_gb['MAIN_FUEL'].fillna('NA')\n",
    "valid_epc_gb['Fossil fuel dependency'] = np.where((valid_epc_gb['MAIN_FUEL']=='oil (not community)') | (valid_epc_gb['MAIN_FUEL']=='oil (community)') | (valid_epc_gb['MAIN_FUEL']=='Oil: heating oil') |\\\n",
    "                                              (valid_epc_gb['MAIN_FUEL'].str.contains('mains gas')) | (valid_epc_gb['MAIN_FUEL'].str.contains('LPG'))|(valid_epc_gb['MAIN_FUEL'].str.contains('LNG'))|\\\n",
    "                                               (valid_epc_gb['MAIN_FUEL'].str.contains('coal')) | (valid_epc_gb['MAIN_FUEL']=='anthracite'), 'Y','N')\n",
    "valid_epc_gb['Fossil fuel dependency'] = np.where(valid_epc_gb['MAIN_FUEL'].str.contains('for backwards compatibility only'), 'N',valid_epc_gb['Fossil fuel dependency'])\n",
    "\n",
    "# CO2 emission per square meter floor area km2/year, mean CO2 emission per square meter km2/year is 45.7\n",
    "valid_epc_gb['CO2_EMISSIONS_CURRENT'] = np.where(valid_epc_gb['CO2_EMISSIONS_CURRENT']<0, np.nan,valid_epc_gb['CO2_EMISSIONS_CURRENT'])\n",
    "\n",
    "# property age band before 2012\n",
    "valid_epc_gb['CONSTRUCTION_AGE_BAND'] = valid_epc_gb['CONSTRUCTION_AGE_BAND'].fillna('NA')\n",
    "valid_epc_gb['Property built 1930-'] = np.where((valid_epc_gb['CONSTRUCTION_AGE_BAND']=='England and Wales: before 1900') | (valid_epc_gb['CONSTRUCTION_AGE_BAND']=='England and Wales: 1900-1929') |\\\n",
    "                                                (valid_epc_gb['CONSTRUCTION_AGE_BAND']=='1919-1929') | (valid_epc_gb['CONSTRUCTION_AGE_BAND']=='before 1919')|\\\n",
    "                                 (valid_epc_gb['CONSTRUCTION_AGE_BAND'].str.contains('1880|1800|1890|1850|1889|1820|1885|1825|1876|1849|1900|1902|1910|1920|1929')), 'Y','N')\n",
    "valid_epc_gb['Property built 2003+'] = np.where((valid_epc_gb['CONSTRUCTION_AGE_BAND']=='England and Wales: 2012 onwards') |\\\n",
    "                                                (valid_epc_gb['CONSTRUCTION_AGE_BAND']=='England and Wales: 2007-2011')|\\\n",
    "                                                (valid_epc_gb['CONSTRUCTION_AGE_BAND']=='England and Wales: 2007 onwards')|\\\n",
    "                                                (valid_epc_gb['CONSTRUCTION_AGE_BAND']=='England and Wales: 2003-2006')|\\\n",
    "                                                (valid_epc_gb['CONSTRUCTION_AGE_BAND']== '2008 onwards')|(valid_epc_gb['CONSTRUCTION_AGE_BAND']== '2003-2007')|\\\n",
    "                                 (valid_epc_gb['CONSTRUCTION_AGE_BAND'].str.contains('2003|2004|2005|2006|2007|2008|2009|2010|2011|2012|2013|2014|2015|2016|2017|2018|2019|2020|2021|2022|2023')), 'Y','N')"
   ]
  },
  {
   "cell_type": "code",
   "execution_count": null,
   "metadata": {
    "tags": []
   },
   "outputs": [],
   "source": [
    "epc_df = valid_epc_gb[['POSTCODE','Efficiency band E-G','Efficiency band A-B','Fossil fuel dependency','Property built 1930-','Property built 2003+','CO2_EMISSIONS_CURRENT']]\n",
    "#merge with lookup table \n",
    "epc_df['POSTCODE'] = epc_df['POSTCODE'].str.replace(' ','')\n",
    "epc_df = epc_df.merge(pcd_lsoa21_gb, on = 'POSTCODE')"
   ]
  },
  {
   "cell_type": "markdown",
   "metadata": {},
   "source": [
    "* Proportional measures of variables from EPC"
   ]
  },
  {
   "cell_type": "code",
   "execution_count": null,
   "metadata": {},
   "outputs": [],
   "source": [
    "def proportion_efficiency(data,col):\n",
    "    #count the total number of EPC records at each LSOA21\n",
    "    epc_sum_lsoa = data.groupby('lsoa21').count()[['POSTCODE']]\n",
    "    #count when feature is'Y'\n",
    "    count = data[data[data.columns[col]] == 'Y'].groupby('lsoa21').count()[[data.columns[col]]]\n",
    "    #join total count and feature count\n",
    "    count = count.join(epc_sum_lsoa)\n",
    "    #suppress count lower than 5 as 0, which are not deemed enough to produce a robust statistic.\n",
    "    count[count.columns[0]]  = np.where(count[count.columns[0]] < 5, 0, count[count.columns[0]])\n",
    "    #calculate the proportion\n",
    "    count[count.columns[0]] = (count[count.columns[0]]/count['POSTCODE']*100).round(2)\n",
    "\n",
    "    return count"
   ]
  },
  {
   "cell_type": "code",
   "execution_count": null,
   "metadata": {},
   "outputs": [],
   "source": [
    "epc_vars = pd.concat([proportion_efficiency(epc_df,i).iloc[:,[0]] for i in range(1,epc_df.shape[1]-1)], axis = 1)\n",
    "# merge with CO2 emission\n",
    "epc_vars['CO2_EMISSIONS_CURRENT'] = epc_df.groupby('lsoa21').mean()"
   ]
  },
  {
   "cell_type": "code",
   "execution_count": null,
   "metadata": {},
   "outputs": [],
   "source": [
    "epc_vars.to_csv('Vars_EPC.csv')"
   ]
  }
 ],
 "metadata": {
  "kernelspec": {
   "display_name": "Python 3 (ipykernel)",
   "language": "python",
   "name": "python3"
  },
  "language_info": {
   "codemirror_mode": {
    "name": "ipython",
    "version": 3
   },
   "file_extension": ".py",
   "mimetype": "text/x-python",
   "name": "python",
   "nbconvert_exporter": "python",
   "pygments_lexer": "ipython3",
   "version": "3.9.16"
  }
 },
 "nbformat": 4,
 "nbformat_minor": 4
}
